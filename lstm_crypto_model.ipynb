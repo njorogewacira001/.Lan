{
  "nbformat": 4,
  "nbformat_minor": 0,
  "metadata": {
    "colab": {
      "provenance": [],
      "authorship_tag": "ABX9TyP0yM4tDck9Ok+n+nPMX7Qd",
      "include_colab_link": true
    },
    "kernelspec": {
      "name": "python3",
      "display_name": "Python 3"
    },
    "language_info": {
      "name": "python"
    }
  },
  "cells": [
    {
      "cell_type": "markdown",
      "metadata": {
        "id": "view-in-github",
        "colab_type": "text"
      },
      "source": [
        "<a href=\"https://colab.research.google.com/github/njorogewacira001/.Lan/blob/main/lstm_crypto_model.ipynb\" target=\"_parent\"><img src=\"https://colab.research.google.com/assets/colab-badge.svg\" alt=\"Open In Colab\"/></a>"
      ]
    },
    {
      "cell_type": "code",
      "execution_count": 1,
      "metadata": {
        "colab": {
          "base_uri": "https://localhost:8080/"
        },
        "id": "uqwIZfOMYfax",
        "outputId": "d8ac544e-048f-4da2-f3c9-0d5d336a04ed"
      },
      "outputs": [
        {
          "output_type": "stream",
          "name": "stdout",
          "text": [
            "Requirement already satisfied: kaggle in /usr/local/lib/python3.10/dist-packages (1.5.16)\n",
            "Requirement already satisfied: six>=1.10 in /usr/local/lib/python3.10/dist-packages (from kaggle) (1.16.0)\n",
            "Requirement already satisfied: certifi in /usr/local/lib/python3.10/dist-packages (from kaggle) (2024.2.2)\n",
            "Requirement already satisfied: python-dateutil in /usr/local/lib/python3.10/dist-packages (from kaggle) (2.8.2)\n",
            "Requirement already satisfied: requests in /usr/local/lib/python3.10/dist-packages (from kaggle) (2.31.0)\n",
            "Requirement already satisfied: tqdm in /usr/local/lib/python3.10/dist-packages (from kaggle) (4.66.2)\n",
            "Requirement already satisfied: python-slugify in /usr/local/lib/python3.10/dist-packages (from kaggle) (8.0.4)\n",
            "Requirement already satisfied: urllib3 in /usr/local/lib/python3.10/dist-packages (from kaggle) (2.0.7)\n",
            "Requirement already satisfied: bleach in /usr/local/lib/python3.10/dist-packages (from kaggle) (6.1.0)\n",
            "Requirement already satisfied: webencodings in /usr/local/lib/python3.10/dist-packages (from bleach->kaggle) (0.5.1)\n",
            "Requirement already satisfied: text-unidecode>=1.3 in /usr/local/lib/python3.10/dist-packages (from python-slugify->kaggle) (1.3)\n",
            "Requirement already satisfied: charset-normalizer<4,>=2 in /usr/local/lib/python3.10/dist-packages (from requests->kaggle) (3.3.2)\n",
            "Requirement already satisfied: idna<4,>=2.5 in /usr/local/lib/python3.10/dist-packages (from requests->kaggle) (3.6)\n"
          ]
        }
      ],
      "source": [
        "!pip install kaggle"
      ]
    },
    {
      "cell_type": "code",
      "source": [
        "from google.colab import drive\n",
        "drive.mount('/content/drive')"
      ],
      "metadata": {
        "colab": {
          "base_uri": "https://localhost:8080/"
        },
        "id": "36M6B_fJYrI-",
        "outputId": "00ebe0be-e593-48d6-c690-792dac1d8455"
      },
      "execution_count": 5,
      "outputs": [
        {
          "output_type": "stream",
          "name": "stdout",
          "text": [
            "Mounted at /content/drive\n"
          ]
        }
      ]
    },
    {
      "cell_type": "code",
      "source": [
        "! mkdir ~/.kaggle"
      ],
      "metadata": {
        "id": "FhGZ5t_cZuit"
      },
      "execution_count": 6,
      "outputs": []
    },
    {
      "cell_type": "code",
      "source": [
        "!cp /content/drive/MyDrive/kaggle.json /content/drive/MyDrive/kaggle.json"
      ],
      "metadata": {
        "colab": {
          "base_uri": "https://localhost:8080/"
        },
        "id": "bQEc35WzdBBp",
        "outputId": "f8565c95-ddda-45e7-c817-a32c18b69273"
      },
      "execution_count": 8,
      "outputs": [
        {
          "output_type": "stream",
          "name": "stdout",
          "text": [
            "cp: '/content/drive/MyDrive/kaggle.json' and '/content/drive/MyDrive/kaggle.json' are the same file\n"
          ]
        }
      ]
    },
    {
      "cell_type": "code",
      "source": [
        "!chmod 600 /content/drive/MyDrive/kaggle.json"
      ],
      "metadata": {
        "id": "P49Uatqsd9oB"
      },
      "execution_count": 13,
      "outputs": []
    },
    {
      "cell_type": "code",
      "source": [
        "import os\n",
        "os.environ['KAGGLE_CONFIG_DIR'] = '/content/drive/MyDrive'"
      ],
      "metadata": {
        "id": "zDwIB9MRhVwP"
      },
      "execution_count": 14,
      "outputs": []
    },
    {
      "cell_type": "code",
      "source": [
        "!kaggle datasets download -d sudalairajkumar/cryptocurrency-historical-prices-coingecko"
      ],
      "metadata": {
        "colab": {
          "base_uri": "https://localhost:8080/"
        },
        "id": "HuJTARc3hlgJ",
        "outputId": "e10eb63f-f59f-40a9-b348-a6c7784f4325"
      },
      "execution_count": 15,
      "outputs": [
        {
          "output_type": "stream",
          "name": "stdout",
          "text": [
            "Downloading cryptocurrency-historical-prices-coingecko.zip to /content\n",
            "\r  0% 0.00/2.95M [00:00<?, ?B/s]\n",
            "\r100% 2.95M/2.95M [00:00<00:00, 144MB/s]\n"
          ]
        }
      ]
    },
    {
      "cell_type": "code",
      "source": [
        "!ls /content\n"
      ],
      "metadata": {
        "colab": {
          "base_uri": "https://localhost:8080/"
        },
        "id": "WaHJRR7_iEJB",
        "outputId": "f6677851-bccc-4ae0-af25-9dfd8023249a"
      },
      "execution_count": 16,
      "outputs": [
        {
          "output_type": "stream",
          "name": "stdout",
          "text": [
            "cryptocurrency-historical-prices-coingecko.zip\tdrive  sample_data\n"
          ]
        }
      ]
    },
    {
      "cell_type": "code",
      "source": [
        "import zipfile\n",
        "import os\n",
        "\n",
        "# Path to the zip file\n",
        "zip_path = \"cryptocurrency-historical-prices-coingecko.zip\"\n",
        "# Path to extract the files\n",
        "extract_path = \"/content/cryptocurrency-historical-prices-coingecko/\"\n",
        "\n",
        "# Create a directory to extract the files\n",
        "os.makedirs(extract_path, exist_ok=True)\n",
        "\n",
        "# Extract the zip file\n",
        "with zipfile.ZipFile(zip_path, 'r') as zip_ref:\n",
        "    zip_ref.extractall(extract_path)\n",
        "\n",
        "# List the extracted files\n",
        "extracted_files = os.listdir(extract_path)\n",
        "print(\"Extracted files:\", extracted_files)\n"
      ],
      "metadata": {
        "colab": {
          "base_uri": "https://localhost:8080/"
        },
        "id": "pPNqaJmblPsL",
        "outputId": "7c96a635-8801-431b-9145-441d57d3479b"
      },
      "execution_count": 19,
      "outputs": [
        {
          "output_type": "stream",
          "name": "stdout",
          "text": [
            "Extracted files: ['chiliz.csv', 'cardano.csv', 'monero.csv', 'matic-network.csv', 'frax.csv', 'stellar.csv', 'litecoin.csv', 'lido-dao.csv', 'binance-usd.csv', 'avalanche-2.csv', 'cosmos.csv', 'usd-coin.csv', 'hedera-hashgraph.csv', 'near.csv', 'quant-network.csv', 'tron.csv', 'flow.csv', 'dogecoin.csv', 'uniswap.csv', 'apecoin.csv', 'the-sandbox.csv', 'vechain.csv', 'solana.csv', 'terra-luna.csv', 'chainlink.csv', 'bitcoin.csv', 'staked-ether.csv', 'axie-infinity.csv', 'theta-token.csv', 'algorand.csv', 'polkadot.csv', 'ftx-token.csv', 'tezos.csv', 'filecoin.csv', 'ethereum-classic.csv', 'crypto-com-chain.csv', 'wrapped-bitcoin.csv', 'eos.csv', 'ripple.csv', 'okb.csv', 'shiba-inu.csv', 'dai.csv', 'internet-computer.csv', 'bitcoin-cash.csv', 'decentraland.csv', 'tether.csv', 'chain-2.csv', 'ethereum.csv', 'binancecoin.csv', 'leo-token.csv']\n"
          ]
        }
      ]
    },
    {
      "cell_type": "code",
      "source": [],
      "metadata": {
        "id": "wB3pMWWil6L5"
      },
      "execution_count": null,
      "outputs": []
    }
  ]
}